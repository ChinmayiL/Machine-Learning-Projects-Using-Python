{
 "cells": [
  {
   "cell_type": "markdown",
   "metadata": {},
   "source": [
    "# Exploratory Data Analysis of 1000 Movies Dataset"
   ]
  },
  {
   "cell_type": "markdown",
   "metadata": {},
   "source": [
    "### 1.Problem Statement: \n",
    "     Mr. X is an aspiring producer. He wants to produce a new movie but wants to do some research with the movies released in past 10 years. He reaches out to Y, an analytics firm to provide some insights on the same. The data science Team of Y uses the Dataset of 1000 movies to carry out the required analysis. Mr.X wants to produce a movie which we provide higher revenue, good Rating and Metacritic score. He also wants a genre filtration for a successsfull movie."
   ]
  },
  {
   "attachments": {
    "Column%20Details.PNG": {
     "image/png": "[encoded data removed]"
    }
   },
   "cell_type": "markdown",
   "metadata": {},
   "source": [
    "### 2. DataSet Description: \n",
    "     The data contains inormation about 1000 movies released between 2006 to 2016 (10 Years). It inlcudes general information with the reviews on the movie. There are 1000 Observations with 12 columns. Below is the list of columns with their descriptions.\n",
    "![Column%20Details.PNG](attachment:Column%20Details.PNG)     \n",
    "      "
   ]
  },
  {
   "cell_type": "markdown",
   "metadata": {},
   "source": [
    "### Importing Packages"
   ]
  },
  {
   "cell_type": "code",
   "execution_count": 1,
   "metadata": {},
   "outputs": [],
   "source": [
    "                                                  \n",
    "import sys                                                                      # Import packages\n",
    "import pandas as pd\n",
    "import seaborn as sns                                                           # Provides a high level interface for drawing attractive and informative statistical graphics\n",
    "import numpy as np\n",
    "import matplotlib.pyplot as plt                                                 # Plotting library for Python programming language and it's numerical mathematics extension NumPy                                             \n",
    "from matplotlib.pyplot import pie, axis, show\n",
    "%matplotlib inline                                                              \n",
    "\n",
    "import warnings                                                                 # Ignore warning related to pandas_profiling\n",
    "warnings.filterwarnings('ignore') \n",
    "\n",
    "pd.set_option('display.max_columns', 100)                                       # Display all dataframe columns in outputs (it has 12 columns, which is wider than the notebook)\n",
    "                                                                                # This sets it up to dispaly with a horizontal scroll instead of hiding the middle columns\n",
    "\n"
   ]
  },
  {
   "cell_type": "markdown",
   "metadata": {},
   "source": [
    "### Importing Dataset"
   ]
  },
  {
   "cell_type": "code",
   "execution_count": 2,
   "metadata": {},
   "outputs": [],
   "source": [
    "df = pd.read_csv(\"https://raw.githubusercontent.com/insaid2018/Term-1/master/Data/Projects/1000%20movies%20data.csv\")                       # Load in the dataset as df"
   ]
  },
  {
   "cell_type": "code",
   "execution_count": 3,
   "metadata": {},
   "outputs": [
    {
     "data": {
      "text/plain": [
       "(1000, 12)"
      ]
     },
     "execution_count": 3,
     "metadata": {},
     "output_type": "execute_result"
    }
   ],
   "source": [
    "df.shape                                                    # This returns the number of Columns and Rows (Observation) of the Dataset"
   ]
  },
  {
   "cell_type": "code",
   "execution_count": 4,
   "metadata": {},
   "outputs": [
    {
     "data": {
      "text/plain": [
       "Index(['Rank', 'Title', 'Genre', 'Description', 'Director', 'Actors', 'Year',\n",
       "       'Runtime (Minutes)', 'Rating', 'Votes', 'Revenue (Millions)',\n",
       "       'Metascore'],\n",
       "      dtype='object')"
      ]
     },
     "execution_count": 4,
     "metadata": {},
     "output_type": "execute_result"
    }
   ],
   "source": [
    "df.columns                                                # This returns the names of the Columns"
   ]
  },
  {
   "cell_type": "code",
   "execution_count": 5,
   "metadata": {},
   "outputs": [
    {
     "data": {
      "text/html": [
       "<div>\n",
       "<style scoped>\n",
       "    .dataframe tbody tr th:only-of-type {\n",
       "        vertical-align: middle;\n",
       "    }\n",
       "\n",
       "    .dataframe tbody tr th {\n",
       "        vertical-align: top;\n",
       "    }\n",
       "\n",
       "    .dataframe thead th {\n",
       "        text-align: right;\n",
       "    }\n",
       "</style>\n",
       "<table border=\"1\" class=\"dataframe\">\n",
       "  <thead>\n",
       "    <tr style=\"text-align: right;\">\n",
       "      <th></th>\n",
       "      <th>Rank</th>\n",
       "      <th>Title</th>\n",
       "      <th>Genre</th>\n",
       "      <th>Description</th>\n",
       "      <th>Director</th>\n",
       "      <th>Actors</th>\n",
       "      <th>Year</th>\n",
       "      <th>Runtime (Minutes)</th>\n",
       "      <th>Rating</th>\n",
       "      <th>Votes</th>\n",
       "      <th>Revenue (Millions)</th>\n",
       "      <th>Metascore</th>\n",
       "    </tr>\n",
       "  </thead>\n",
       "  <tbody>\n",
       "    <tr>\n",
       "      <th>995</th>\n",
       "      <td>996</td>\n",
       "      <td>Secret in Their Eyes</td>\n",
       "      <td>Crime,Drama,Mystery</td>\n",
       "      <td>A tight-knit team of rising investigators, alo...</td>\n",
       "      <td>Billy Ray</td>\n",
       "      <td>Chiwetel Ejiofor, Nicole Kidman, Julia Roberts...</td>\n",
       "      <td>2015</td>\n",
       "      <td>111</td>\n",
       "      <td>6.2</td>\n",
       "      <td>27585</td>\n",
       "      <td>NaN</td>\n",
       "      <td>45.0</td>\n",
       "    </tr>\n",
       "    <tr>\n",
       "      <th>996</th>\n",
       "      <td>997</td>\n",
       "      <td>Hostel: Part II</td>\n",
       "      <td>Horror</td>\n",
       "      <td>Three American college students studying abroa...</td>\n",
       "      <td>Eli Roth</td>\n",
       "      <td>Lauren German, Heather Matarazzo, Bijou Philli...</td>\n",
       "      <td>2007</td>\n",
       "      <td>94</td>\n",
       "      <td>5.5</td>\n",
       "      <td>73152</td>\n",
       "      <td>17.54</td>\n",
       "      <td>46.0</td>\n",
       "    </tr>\n",
       "    <tr>\n",
       "      <th>997</th>\n",
       "      <td>998</td>\n",
       "      <td>Step Up 2: The Streets</td>\n",
       "      <td>Drama,Music,Romance</td>\n",
       "      <td>Romantic sparks occur between two dance studen...</td>\n",
       "      <td>Jon M. Chu</td>\n",
       "      <td>Robert Hoffman, Briana Evigan, Cassie Ventura,...</td>\n",
       "      <td>2008</td>\n",
       "      <td>98</td>\n",
       "      <td>6.2</td>\n",
       "      <td>70699</td>\n",
       "      <td>58.01</td>\n",
       "      <td>50.0</td>\n",
       "    </tr>\n",
       "    <tr>\n",
       "      <th>998</th>\n",
       "      <td>999</td>\n",
       "      <td>Search Party</td>\n",
       "      <td>Adventure,Comedy</td>\n",
       "      <td>A pair of friends embark on a mission to reuni...</td>\n",
       "      <td>Scot Armstrong</td>\n",
       "      <td>Adam Pally, T.J. Miller, Thomas Middleditch,Sh...</td>\n",
       "      <td>2014</td>\n",
       "      <td>93</td>\n",
       "      <td>5.6</td>\n",
       "      <td>4881</td>\n",
       "      <td>NaN</td>\n",
       "      <td>22.0</td>\n",
       "    </tr>\n",
       "    <tr>\n",
       "      <th>999</th>\n",
       "      <td>1000</td>\n",
       "      <td>Nine Lives</td>\n",
       "      <td>Comedy,Family,Fantasy</td>\n",
       "      <td>A stuffy businessman finds himself trapped ins...</td>\n",
       "      <td>Barry Sonnenfeld</td>\n",
       "      <td>Kevin Spacey, Jennifer Garner, Robbie Amell,Ch...</td>\n",
       "      <td>2016</td>\n",
       "      <td>87</td>\n",
       "      <td>5.3</td>\n",
       "      <td>12435</td>\n",
       "      <td>19.64</td>\n",
       "      <td>11.0</td>\n",
       "    </tr>\n",
       "  </tbody>\n",
       "</table>\n",
       "</div>"
      ],
      "text/plain": [
       "     Rank                   Title                  Genre  \\\n",
       "995   996    Secret in Their Eyes    Crime,Drama,Mystery   \n",
       "996   997         Hostel: Part II                 Horror   \n",
       "997   998  Step Up 2: The Streets    Drama,Music,Romance   \n",
       "998   999            Search Party       Adventure,Comedy   \n",
       "999  1000              Nine Lives  Comedy,Family,Fantasy   \n",
       "\n",
       "                                           Description          Director  \\\n",
       "995  A tight-knit team of rising investigators, alo...         Billy Ray   \n",
       "996  Three American college students studying abroa...          Eli Roth   \n",
       "997  Romantic sparks occur between two dance studen...        Jon M. Chu   \n",
       "998  A pair of friends embark on a mission to reuni...    Scot Armstrong   \n",
       "999  A stuffy businessman finds himself trapped ins...  Barry Sonnenfeld   \n",
       "\n",
       "                                                Actors  Year  \\\n",
       "995  Chiwetel Ejiofor, Nicole Kidman, Julia Roberts...  2015   \n",
       "996  Lauren German, Heather Matarazzo, Bijou Philli...  2007   \n",
       "997  Robert Hoffman, Briana Evigan, Cassie Ventura,...  2008   \n",
       "998  Adam Pally, T.J. Miller, Thomas Middleditch,Sh...  2014   \n",
       "999  Kevin Spacey, Jennifer Garner, Robbie Amell,Ch...  2016   \n",
       "\n",
       "     Runtime (Minutes)  Rating  Votes  Revenue (Millions)  Metascore  \n",
       "995                111     6.2  27585                 NaN       45.0  \n",
       "996                 94     5.5  73152               17.54       46.0  \n",
       "997                 98     6.2  70699               58.01       50.0  \n",
       "998                 93     5.6   4881                 NaN       22.0  \n",
       "999                 87     5.3  12435               19.64       11.0  "
      ]
     },
     "execution_count": 5,
     "metadata": {},
     "output_type": "execute_result"
    }
   ],
   "source": [
    "df.head()                                                # This returns the first five rows of the data frame\n",
    "df.tail()                                                # This returns the last five rows\n",
    "# A number can be passed inside the round spaces to get those number of rows from start or bottom of he data set."
   ]
  },
  {
   "cell_type": "code",
   "execution_count": 6,
   "metadata": {},
   "outputs": [
    {
     "name": "stdout",
     "output_type": "stream",
     "text": [
      "<class 'pandas.core.frame.DataFrame'>\n",
      "RangeIndex: 1000 entries, 0 to 999\n",
      "Data columns (total 12 columns):\n",
      "Rank                  1000 non-null int64\n",
      "Title                 1000 non-null object\n",
      "Genre                 1000 non-null object\n",
      "Description           1000 non-null object\n",
      "Director              1000 non-null object\n",
      "Actors                1000 non-null object\n",
      "Year                  1000 non-null int64\n",
      "Runtime (Minutes)     1000 non-null int64\n",
      "Rating                1000 non-null float64\n",
      "Votes                 1000 non-null int64\n",
      "Revenue (Millions)    872 non-null float64\n",
      "Metascore             936 non-null float64\n",
      "dtypes: float64(3), int64(4), object(5)\n",
      "memory usage: 93.8+ KB\n"
     ]
    }
   ],
   "source": [
    "df.info()                                                                       # Returns data type of the columns with the No of observations and Columns"
   ]
  },
  {
   "cell_type": "markdown",
   "metadata": {},
   "source": [
    "We can conclude that Data has only three types of datatypes i.e float64, int64, object with variable count as 3,4 and 5 respectively and memory usage is 93.8 KB. "
   ]
  },
  {
   "cell_type": "code",
   "execution_count": 7,
   "metadata": {},
   "outputs": [
    {
     "data": {
      "text/html": [
       "<div>\n",
       "<style scoped>\n",
       "    .dataframe tbody tr th:only-of-type {\n",
       "        vertical-align: middle;\n",
       "    }\n",
       "\n",
       "    .dataframe tbody tr th {\n",
       "        vertical-align: top;\n",
       "    }\n",
       "\n",
       "    .dataframe thead th {\n",
       "        text-align: right;\n",
       "    }\n",
       "</style>\n",
       "<table border=\"1\" class=\"dataframe\">\n",
       "  <thead>\n",
       "    <tr style=\"text-align: right;\">\n",
       "      <th></th>\n",
       "      <th>Rank</th>\n",
       "      <th>Title</th>\n",
       "      <th>Genre</th>\n",
       "      <th>Description</th>\n",
       "      <th>Director</th>\n",
       "      <th>Actors</th>\n",
       "      <th>Year</th>\n",
       "      <th>Runtime (Minutes)</th>\n",
       "      <th>Rating</th>\n",
       "      <th>Votes</th>\n",
       "      <th>Revenue (Millions)</th>\n",
       "      <th>Metascore</th>\n",
       "    </tr>\n",
       "  </thead>\n",
       "  <tbody>\n",
       "    <tr>\n",
       "      <th>count</th>\n",
       "      <td>1000.000000</td>\n",
       "      <td>1000</td>\n",
       "      <td>1000</td>\n",
       "      <td>1000</td>\n",
       "      <td>1000</td>\n",
       "      <td>1000</td>\n",
       "      <td>1000.000000</td>\n",
       "      <td>1000.000000</td>\n",
       "      <td>1000.000000</td>\n",
       "      <td>1.000000e+03</td>\n",
       "      <td>872.000000</td>\n",
       "      <td>936.000000</td>\n",
       "    </tr>\n",
       "    <tr>\n",
       "      <th>unique</th>\n",
       "      <td>NaN</td>\n",
       "      <td>999</td>\n",
       "      <td>207</td>\n",
       "      <td>1000</td>\n",
       "      <td>644</td>\n",
       "      <td>996</td>\n",
       "      <td>NaN</td>\n",
       "      <td>NaN</td>\n",
       "      <td>NaN</td>\n",
       "      <td>NaN</td>\n",
       "      <td>NaN</td>\n",
       "      <td>NaN</td>\n",
       "    </tr>\n",
       "    <tr>\n",
       "      <th>top</th>\n",
       "      <td>NaN</td>\n",
       "      <td>The Host</td>\n",
       "      <td>Action,Adventure,Sci-Fi</td>\n",
       "      <td>Kevin's mother struggles to love her strange c...</td>\n",
       "      <td>Ridley Scott</td>\n",
       "      <td>Gerard Butler, Aaron Eckhart, Morgan Freeman,A...</td>\n",
       "      <td>NaN</td>\n",
       "      <td>NaN</td>\n",
       "      <td>NaN</td>\n",
       "      <td>NaN</td>\n",
       "      <td>NaN</td>\n",
       "      <td>NaN</td>\n",
       "    </tr>\n",
       "    <tr>\n",
       "      <th>freq</th>\n",
       "      <td>NaN</td>\n",
       "      <td>2</td>\n",
       "      <td>50</td>\n",
       "      <td>1</td>\n",
       "      <td>8</td>\n",
       "      <td>2</td>\n",
       "      <td>NaN</td>\n",
       "      <td>NaN</td>\n",
       "      <td>NaN</td>\n",
       "      <td>NaN</td>\n",
       "      <td>NaN</td>\n",
       "      <td>NaN</td>\n",
       "    </tr>\n",
       "    <tr>\n",
       "      <th>mean</th>\n",
       "      <td>500.500000</td>\n",
       "      <td>NaN</td>\n",
       "      <td>NaN</td>\n",
       "      <td>NaN</td>\n",
       "      <td>NaN</td>\n",
       "      <td>NaN</td>\n",
       "      <td>2012.783000</td>\n",
       "      <td>113.172000</td>\n",
       "      <td>6.723200</td>\n",
       "      <td>1.698083e+05</td>\n",
       "      <td>82.956376</td>\n",
       "      <td>58.985043</td>\n",
       "    </tr>\n",
       "    <tr>\n",
       "      <th>std</th>\n",
       "      <td>288.819436</td>\n",
       "      <td>NaN</td>\n",
       "      <td>NaN</td>\n",
       "      <td>NaN</td>\n",
       "      <td>NaN</td>\n",
       "      <td>NaN</td>\n",
       "      <td>3.205962</td>\n",
       "      <td>18.810908</td>\n",
       "      <td>0.945429</td>\n",
       "      <td>1.887626e+05</td>\n",
       "      <td>103.253540</td>\n",
       "      <td>17.194757</td>\n",
       "    </tr>\n",
       "    <tr>\n",
       "      <th>min</th>\n",
       "      <td>1.000000</td>\n",
       "      <td>NaN</td>\n",
       "      <td>NaN</td>\n",
       "      <td>NaN</td>\n",
       "      <td>NaN</td>\n",
       "      <td>NaN</td>\n",
       "      <td>2006.000000</td>\n",
       "      <td>66.000000</td>\n",
       "      <td>1.900000</td>\n",
       "      <td>6.100000e+01</td>\n",
       "      <td>0.000000</td>\n",
       "      <td>11.000000</td>\n",
       "    </tr>\n",
       "    <tr>\n",
       "      <th>25%</th>\n",
       "      <td>250.750000</td>\n",
       "      <td>NaN</td>\n",
       "      <td>NaN</td>\n",
       "      <td>NaN</td>\n",
       "      <td>NaN</td>\n",
       "      <td>NaN</td>\n",
       "      <td>2010.000000</td>\n",
       "      <td>100.000000</td>\n",
       "      <td>6.200000</td>\n",
       "      <td>3.630900e+04</td>\n",
       "      <td>13.270000</td>\n",
       "      <td>47.000000</td>\n",
       "    </tr>\n",
       "    <tr>\n",
       "      <th>50%</th>\n",
       "      <td>500.500000</td>\n",
       "      <td>NaN</td>\n",
       "      <td>NaN</td>\n",
       "      <td>NaN</td>\n",
       "      <td>NaN</td>\n",
       "      <td>NaN</td>\n",
       "      <td>2014.000000</td>\n",
       "      <td>111.000000</td>\n",
       "      <td>6.800000</td>\n",
       "      <td>1.107990e+05</td>\n",
       "      <td>47.985000</td>\n",
       "      <td>59.500000</td>\n",
       "    </tr>\n",
       "    <tr>\n",
       "      <th>75%</th>\n",
       "      <td>750.250000</td>\n",
       "      <td>NaN</td>\n",
       "      <td>NaN</td>\n",
       "      <td>NaN</td>\n",
       "      <td>NaN</td>\n",
       "      <td>NaN</td>\n",
       "      <td>2016.000000</td>\n",
       "      <td>123.000000</td>\n",
       "      <td>7.400000</td>\n",
       "      <td>2.399098e+05</td>\n",
       "      <td>113.715000</td>\n",
       "      <td>72.000000</td>\n",
       "    </tr>\n",
       "    <tr>\n",
       "      <th>max</th>\n",
       "      <td>1000.000000</td>\n",
       "      <td>NaN</td>\n",
       "      <td>NaN</td>\n",
       "      <td>NaN</td>\n",
       "      <td>NaN</td>\n",
       "      <td>NaN</td>\n",
       "      <td>2016.000000</td>\n",
       "      <td>191.000000</td>\n",
       "      <td>9.000000</td>\n",
       "      <td>1.791916e+06</td>\n",
       "      <td>936.630000</td>\n",
       "      <td>100.000000</td>\n",
       "    </tr>\n",
       "  </tbody>\n",
       "</table>\n",
       "</div>"
      ],
      "text/plain": [
       "               Rank     Title                    Genre  \\\n",
       "count   1000.000000      1000                     1000   \n",
       "unique          NaN       999                      207   \n",
       "top             NaN  The Host  Action,Adventure,Sci-Fi   \n",
       "freq            NaN         2                       50   \n",
       "mean     500.500000       NaN                      NaN   \n",
       "std      288.819436       NaN                      NaN   \n",
       "min        1.000000       NaN                      NaN   \n",
       "25%      250.750000       NaN                      NaN   \n",
       "50%      500.500000       NaN                      NaN   \n",
       "75%      750.250000       NaN                      NaN   \n",
       "max     1000.000000       NaN                      NaN   \n",
       "\n",
       "                                              Description      Director  \\\n",
       "count                                                1000          1000   \n",
       "unique                                               1000           644   \n",
       "top     Kevin's mother struggles to love her strange c...  Ridley Scott   \n",
       "freq                                                    1             8   \n",
       "mean                                                  NaN           NaN   \n",
       "std                                                   NaN           NaN   \n",
       "min                                                   NaN           NaN   \n",
       "25%                                                   NaN           NaN   \n",
       "50%                                                   NaN           NaN   \n",
       "75%                                                   NaN           NaN   \n",
       "max                                                   NaN           NaN   \n",
       "\n",
       "                                                   Actors         Year  \\\n",
       "count                                                1000  1000.000000   \n",
       "unique                                                996          NaN   \n",
       "top     Gerard Butler, Aaron Eckhart, Morgan Freeman,A...          NaN   \n",
       "freq                                                    2          NaN   \n",
       "mean                                                  NaN  2012.783000   \n",
       "std                                                   NaN     3.205962   \n",
       "min                                                   NaN  2006.000000   \n",
       "25%                                                   NaN  2010.000000   \n",
       "50%                                                   NaN  2014.000000   \n",
       "75%                                                   NaN  2016.000000   \n",
       "max                                                   NaN  2016.000000   \n",
       "\n",
       "        Runtime (Minutes)       Rating         Votes  Revenue (Millions)  \\\n",
       "count         1000.000000  1000.000000  1.000000e+03          872.000000   \n",
       "unique                NaN          NaN           NaN                 NaN   \n",
       "top                   NaN          NaN           NaN                 NaN   \n",
       "freq                  NaN          NaN           NaN                 NaN   \n",
       "mean           113.172000     6.723200  1.698083e+05           82.956376   \n",
       "std             18.810908     0.945429  1.887626e+05          103.253540   \n",
       "min             66.000000     1.900000  6.100000e+01            0.000000   \n",
       "25%            100.000000     6.200000  3.630900e+04           13.270000   \n",
       "50%            111.000000     6.800000  1.107990e+05           47.985000   \n",
       "75%            123.000000     7.400000  2.399098e+05          113.715000   \n",
       "max            191.000000     9.000000  1.791916e+06          936.630000   \n",
       "\n",
       "         Metascore  \n",
       "count   936.000000  \n",
       "unique         NaN  \n",
       "top            NaN  \n",
       "freq           NaN  \n",
       "mean     58.985043  \n",
       "std      17.194757  \n",
       "min      11.000000  \n",
       "25%      47.000000  \n",
       "50%      59.500000  \n",
       "75%      72.000000  \n",
       "max     100.000000  "
      ]
     },
     "execution_count": 7,
     "metadata": {},
     "output_type": "execute_result"
    }
   ],
   "source": [
    "df.describe(include='all')"
   ]
  },
  {
   "cell_type": "markdown",
   "metadata": {},
   "source": [
    "'Describe'Function gives us detailed information about the count,mean,median, standard Deviation and quartile range values. 'Include All' is used to include the categorical variables too. The statistical values are returned only for the numerical variables. Hence the categorical variables (Title,Genre,Director,Actors) have values as 'NaN' for the same. "
   ]
  },
  {
   "cell_type": "code",
   "execution_count": 8,
   "metadata": {},
   "outputs": [
    {
     "data": {
      "text/plain": [
       "Rank                    0\n",
       "Title                   0\n",
       "Genre                   0\n",
       "Description             0\n",
       "Director                0\n",
       "Actors                  0\n",
       "Year                    0\n",
       "Runtime (Minutes)       0\n",
       "Rating                  0\n",
       "Votes                   0\n",
       "Revenue (Millions)    128\n",
       "Metascore              64\n",
       "dtype: int64"
      ]
     },
     "execution_count": 8,
     "metadata": {},
     "output_type": "execute_result"
    }
   ],
   "source": [
    "df.isnull().sum()                                  # This returns the count of missing values in respetive columns"
   ]
  },
  {
   "cell_type": "markdown",
   "metadata": {},
   "source": [
    "The above results shows that __Revenue__ and __Metascore__ has 128 and 64 missing values respectively. "
   ]
  },
  {
   "cell_type": "markdown",
   "metadata": {},
   "source": [
    "### Data PreProcessing"
   ]
  },
  {
   "cell_type": "markdown",
   "metadata": {},
   "source": [
    "We run a Pre Profiling on the data set which gives us information regarding the columns and detailed report regarding the coorelation between the variables. A detailed HTML report is generated which provides us with the visualization which further can be used for detailed analysis. "
   ]
  },
  {
   "cell_type": "code",
   "execution_count": 9,
   "metadata": {},
   "outputs": [],
   "source": [
    "import pandas_profiling"
   ]
  },
  {
   "cell_type": "code",
   "execution_count": 10,
   "metadata": {},
   "outputs": [],
   "source": [
    "profile = df.profile_report(title='Profiling Before Processing',style={'full_width':True})\n",
    "profile.to_file(output_file=\"PreProcessing_Profiling.html\")\n",
    "                           \n"
   ]
  },
  {
   "cell_type": "markdown",
   "metadata": {},
   "source": [
    "###Observations from Pandas Profiling before Data Procesing###\n",
    "\n",
    "__Dataset info__:\n",
    "- Number of variables: 12\n",
    "- Number of observations: 1000\n",
    "- Missing cells: 192 (1.6%)\n",
    "\n",
    "\n",
    "__Variables types__: \n",
    "- Numeric = 7\n",
    "- Categorical = 4\n",
    "- Text (Unique) = 1\n",
    "\n",
    "<br>\n",
    "\n",
    "- **Rank** acts an index with values ranging from 1 to 1000 with no missing values and no dupilcates.Acceptable.\n",
    "- **Title** has a high cardinality: 999 distinct values with one duplicate value as 'The Host'which is an accceptable one.\n",
    "- **Genre** has a high cardinality: 207 distinct values with highest share of 50 values as 'Action,Adventure,SciFi'  followed by           48 values as 'Drama' and 35 with 'Comedy,Drama, Romance'. Acceptable.\n",
    "- **Description**  has 1000 unique values. Acceptable.\n",
    " has a high cardinality: 644 distinct values.Highest share of 8 values for 'Ridley Scott'and 6 values for 'Paul                  W.S. Anderson' and 'David Yates'respectively. Accepatble.\n",
    "- **Actors** has a high cardinality: 996 distinct values. Acceptable.\n",
    "- **Year** has values ranging from 2006 to 2016.Acceptable.\n",
    "- **Runtime** It has values ranging from 66 to 191 with a mean of 113.72, skewness=0.85 and kurtosis=0.86. \n",
    "            The highest value of 191 is an outlier same is the values ranging above 157.5(Q3+1.5*IQR) {IQR=Q3-Q1=123-100=23}.\n",
    "- **Rating** values range from 1.9 to 9 with a skewness=-0.74 and kurtosis of 1.32. This is negatively skewed as mean(6.7) lies to left of median(6.8). The values ranging below 4.4 (Q3-1.5*IQR) are outliers.\n",
    "- **Votes** Values range from 61 to 1791916.Positevly skewed data as mean(169808.255) lies to right of median(110799).\n",
    "- **Revenue_(Millions)** has 128 (12.8%) missing values with values ranging from 0 to 936.63 . Need to analyze the missing values.\n",
    "- **Metascore** has 64 (6.4%) missing values with values ranging from 11 to 100. Negatively skewed data as mean(58.98) lies to left of median(59.5) Need to analyze the missing values.\n",
    "\n",
    " \n"
   ]
  },
  {
   "cell_type": "markdown",
   "metadata": {},
   "source": [
    "### Imputing Missing Values###"
   ]
  },
  {
   "cell_type": "code",
   "execution_count": 115,
   "metadata": {},
   "outputs": [
    {
     "data": {
      "text/plain": [
       "(1000, 13)"
      ]
     },
     "execution_count": 115,
     "metadata": {},
     "output_type": "execute_result"
    }
   ],
   "source": [
    "# Renaming columns for ease of accessing:\n",
    "df.rename(columns={'Revenue_(Millions)': 'Revenue', 'Runtime_(Minutes)': 'Runtime'}, inplace=True)\n",
    "#Imputing Missing Values in Revenue Column with Median(47.98) as Mean value is too high (82.95):\n",
    "df['Revenue'].fillna(value=df['Revenue'].median(),inplace=True)\n",
    "# Imputing Metascore data with 'ffill'method by sorting the dataframe in acsending order of 'Rating' column. As Rating and Metascore are around 0.5 correated as per the heat Map in Pre Profiling..\n",
    "df.sort_values('Rating',inplace=True)\n",
    "df['Metascore'].fillna(method='bfill', inplace= True)\n",
    "# Check for any null values\n",
    "df.Metascore.isnull().any() \n",
    "df.shape\n",
    "# After dopping the missing value rows in Metacore Column, the dataset has 936 rows and 12 columns.\n",
    "# Set the index of the DataFrame to the movie 'Title' as it has unique values except 'The Host' which are released in two different years so it can be ignored:\n",
    "df.set_index('Title', inplace=True)\n",
    "df.head(5)\n",
    "\n"
   ]
  },
  {
   "cell_type": "markdown",
   "metadata": {},
   "source": [
    "### Post Processesing Profiling###"
   ]
  },
  {
   "cell_type": "code",
   "execution_count": 112,
   "metadata": {},
   "outputs": [],
   "source": [
    "# As the data is ready is free of null values and duplicates we can proceed with Post Processing Profili\n",
    "profile = df.profile_report(title='Profiling After Processing',style={'full_width':True},correlations={'kendall':False})\n",
    "profile.to_file(output_file=\"PostProcessing_Profiling.html\")"
   ]
  },
  {
   "cell_type": "markdown",
   "metadata": {},
   "source": [
    "## Exploratory Data Analysis (EDA)##"
   ]
  },
  {
   "cell_type": "markdown",
   "metadata": {},
   "source": [
    "### In this section we will explore the data with Questions. We will plot the data using different visualization techniques with a combination of variables to deduce the logic behind the same.###"
   ]
  },
  {
   "cell_type": "markdown",
   "metadata": {},
   "source": [
    "#### What is the Trend of Movies released every year?####"
   ]
  },
  {
   "cell_type": "markdown",
   "metadata": {},
   "source": [
    "### Movies per Year Count###"
   ]
  },
  {
   "cell_type": "code",
   "execution_count": 39,
   "metadata": {},
   "outputs": [
    {
     "data": {
      "text/plain": [
       "Year\n",
       "2006     44\n",
       "2007     53\n",
       "2008     52\n",
       "2009     51\n",
       "2010     60\n",
       "2011     63\n",
       "2012     64\n",
       "2013     91\n",
       "2014     98\n",
       "2015    127\n",
       "2016    297\n",
       "Name: Rank, dtype: int64"
      ]
     },
     "execution_count": 39,
     "metadata": {},
     "output_type": "execute_result"
    }
   ],
   "source": [
    "# Count of Movies Released every year\n",
    "Movies_Count_Year= df.groupby('Year')['Rank'].count()\n",
    "Movies_Count_Year"
   ]
  },
  {
   "cell_type": "code",
   "execution_count": 35,
   "metadata": {},
   "outputs": [
    {
     "data": {
      "image/png": "[encoded data removed]",
      "text/plain": [
       "<Figure size 720x360 with 1 Axes>"
      ]
     },
     "metadata": {},
     "output_type": "display_data"
    }
   ],
   "source": [
    "#Plotting the above count\n",
    "plt.figure(figsize=(10,5))\n",
    "sns.countplot('Year',data = df,palette=\"PuBuGn_d\")\n",
    "plt.title(\"Movies per Year\",fontsize=18,fontweight=\"bold\")\n",
    "plt.xlabel('Year')\n",
    "plt.ylabel('Frequency')\n",
    "plt.show()"
   ]
  },
  {
   "cell_type": "markdown",
   "metadata": {},
   "source": [
    "#### As we can see, the count of movies released every year is increasing drastically. Hence 2006 has the least count whereas 2016 has the highest number of movies released.####"
   ]
  },
  {
   "cell_type": "markdown",
   "metadata": {},
   "source": [
    "### Revenue Vs Year ###"
   ]
  },
  {
   "cell_type": "code",
   "execution_count": 129,
   "metadata": {},
   "outputs": [
    {
     "data": {
      "text/plain": [
       "Year\n",
       "2006     3720.430\n",
       "2007     4498.170\n",
       "2008     5101.205\n",
       "2009     5484.200\n",
       "2010     6133.605\n",
       "2011     5479.945\n",
       "2012     6910.290\n",
       "2013     7810.675\n",
       "2014     8189.340\n",
       "2015     9525.910\n",
       "2016    15626.270\n",
       "Name: Revenue, dtype: float64"
      ]
     },
     "execution_count": 129,
     "metadata": {},
     "output_type": "execute_result"
    }
   ],
   "source": [
    "# Let's see the trend of Revenue per Year:\n",
    "Revenue_Year=df.groupby('Year')['Revenue'].sum()\n",
    "Revenue_Year"
   ]
  },
  {
   "cell_type": "code",
   "execution_count": 132,
   "metadata": {},
   "outputs": [
    {
     "data": {
      "text/plain": [
       "Text(0.5, 1.0, 'Line Chart showing the varaitaionof Revenue across different Years')"
      ]
     },
     "execution_count": 132,
     "metadata": {},
     "output_type": "execute_result"
    },
    {
     "data": {
      "image/png": "[encoded data removed]",
      "text/plain": [
       "<Figure size 576x396 with 1 Axes>"
      ]
     },
     "metadata": {},
     "output_type": "display_data"
    }
   ],
   "source": [
    "# Plotting the trend:\n",
    "fig1=Revenue_Year.plot.line()\n",
    "fig1.set_xlabel('Year')\n",
    "fig1.set_ylabel('Revenue (In Millions)')\n",
    "fig1.set_title('Line Chart showing the varaitaionof Revenue across different Years')"
   ]
  },
  {
   "cell_type": "markdown",
   "metadata": {},
   "source": [
    "#### We can see that the Revenue Collection has significantly increasing in teh last few Years.####"
   ]
  },
  {
   "cell_type": "markdown",
   "metadata": {},
   "source": [
    "### Rating Vs Revenue###"
   ]
  },
  {
   "cell_type": "markdown",
   "metadata": {},
   "source": [
    "### How does Rating affect the Revenue Collection?###"
   ]
  },
  {
   "cell_type": "code",
   "execution_count": 63,
   "metadata": {},
   "outputs": [
    {
     "data": {
      "text/plain": [
       "Index(['Rank', 'Title', 'Genre', 'Description', 'Director', 'Actors', 'Year',\n",
       "       'Runtime', 'Rating', 'Votes', 'Revenue', 'Metascore', 'Runtime_Levels'],\n",
       "      dtype='object')"
      ]
     },
     "execution_count": 63,
     "metadata": {},
     "output_type": "execute_result"
    },
    {
     "data": {
      "image/png": "[encoded data removed]",
      "text/plain": [
       "<Figure size 576x396 with 1 Axes>"
      ]
     },
     "metadata": {},
     "output_type": "display_data"
    }
   ],
   "source": [
    "# Plot the Revenue earned in range of Ratings:\n",
    "plt.plot(df['Rating'],df['Revenue'])\n",
    "plt.ylabel('Revenue');\n",
    "plt.xlabel('Rating Range')\n",
    "plt.title('Revenue earned in Range of Ratings')\n"
   ]
  },
  {
   "cell_type": "markdown",
   "metadata": {},
   "source": [
    "#### Thus we can see that Rating in a range of 7-8 results in maximum Revenue. ####"
   ]
  },
  {
   "cell_type": "markdown",
   "metadata": {},
   "source": [
    "### Metascore Vs Revenue ###"
   ]
  },
  {
   "cell_type": "markdown",
   "metadata": {},
   "source": [
    "### Does Metascore have any effect on Revenue Collection?###"
   ]
  },
  {
   "cell_type": "code",
   "execution_count": 74,
   "metadata": {},
   "outputs": [
    {
     "data": {
      "text/plain": [
       "count    1000.000000\n",
       "mean       59.033000\n",
       "std        17.159614\n",
       "min        11.000000\n",
       "25%        46.750000\n",
       "50%        59.500000\n",
       "75%        72.000000\n",
       "max       100.000000\n",
       "Name: Metascore, dtype: float64"
      ]
     },
     "execution_count": 74,
     "metadata": {},
     "output_type": "execute_result"
    }
   ],
   "source": [
    "df.Metascore.describe()"
   ]
  },
  {
   "cell_type": "code",
   "execution_count": 79,
   "metadata": {},
   "outputs": [
    {
     "data": {
      "text/plain": [
       "Text(0.5, 1.0, 'Scatter plot showing the Metascore Vs Revenue')"
      ]
     },
     "execution_count": 79,
     "metadata": {},
     "output_type": "execute_result"
    },
    {
     "data": {
      "image/png": "[encoded data removed]",
      "text/plain": [
       "<Figure size 720x432 with 1 Axes>"
      ]
     },
     "metadata": {},
     "output_type": "display_data"
    }
   ],
   "source": [
    "bins=[11,47,60,72,100]\n",
    "df.plot(kind='scatter', x='Metascore', y='Revenue', figsize=(10, 6), color='purple', grid=False, xticks=bins)\n",
    "\n",
    "plt.title('Scatter plot showing the Metascore Vs Revenue')"
   ]
  },
  {
   "cell_type": "markdown",
   "metadata": {},
   "source": [
    "#### The values of Metascore at higher end denote positive reviews. The above plot cleary shows a scattered observation. The distribution does not follow a definite trend. Hence we can conclude that Revenue is not so dependant on Metascore.####"
   ]
  },
  {
   "cell_type": "markdown",
   "metadata": {},
   "source": [
    "### Runtime###"
   ]
  },
  {
   "cell_type": "markdown",
   "metadata": {},
   "source": [
    "### Does runtime have any effect on Movie's Polularity?###"
   ]
  },
  {
   "cell_type": "code",
   "execution_count": 25,
   "metadata": {},
   "outputs": [
    {
     "data": {
      "text/plain": [
       "count    1000.000000\n",
       "mean      113.172000\n",
       "std        18.810908\n",
       "min        66.000000\n",
       "25%       100.000000\n",
       "50%       111.000000\n",
       "75%       123.000000\n",
       "max       191.000000\n",
       "Name: Runtime, dtype: float64"
      ]
     },
     "execution_count": 25,
     "metadata": {},
     "output_type": "execute_result"
    }
   ],
   "source": [
    "# Getting the statistics for Runtime Variavle:\n",
    "df.Runtime.describe()"
   ]
  },
  {
   "cell_type": "code",
   "execution_count": 139,
   "metadata": {},
   "outputs": [
    {
     "data": {
      "text/plain": [
       "Text(0.5, 1.0, 'Distribution of Movies w.r.t Runtime')"
      ]
     },
     "execution_count": 139,
     "metadata": {},
     "output_type": "execute_result"
    },
    {
     "data": {
      "image/png": "[encoded data removed]",
      "text/plain": [
       "<Figure size 576x396 with 1 Axes>"
      ]
     },
     "metadata": {},
     "output_type": "display_data"
    }
   ],
   "source": [
    "# Checking for the distribution of Values:\n",
    "p1=df.Runtime.plot.hist()\n",
    "p1.set_xlabel('Runtime (In Minutes)')\n",
    "p1.set_title('Distribution of Movies w.r.t Runtime')"
   ]
  },
  {
   "cell_type": "markdown",
   "metadata": {},
   "source": [
    "#### We can see that most of the Movies have a runtime in a range of 90 to 120 minutes. We will divide the Runtime in different intervals to study its effect on the other Variables.####"
   ]
  },
  {
   "cell_type": "code",
   "execution_count": 27,
   "metadata": {},
   "outputs": [
    {
     "data": {
      "text/html": [
       "<div>\n",
       "<style scoped>\n",
       "    .dataframe tbody tr th:only-of-type {\n",
       "        vertical-align: middle;\n",
       "    }\n",
       "\n",
       "    .dataframe tbody tr th {\n",
       "        vertical-align: top;\n",
       "    }\n",
       "\n",
       "    .dataframe thead th {\n",
       "        text-align: right;\n",
       "    }\n",
       "</style>\n",
       "<table border=\"1\" class=\"dataframe\">\n",
       "  <thead>\n",
       "    <tr style=\"text-align: right;\">\n",
       "      <th></th>\n",
       "      <th>Rank</th>\n",
       "      <th>Title</th>\n",
       "      <th>Genre</th>\n",
       "      <th>Description</th>\n",
       "      <th>Director</th>\n",
       "      <th>Actors</th>\n",
       "      <th>Year</th>\n",
       "      <th>Runtime</th>\n",
       "      <th>Rating</th>\n",
       "      <th>Votes</th>\n",
       "      <th>Revenue</th>\n",
       "      <th>Metascore</th>\n",
       "      <th>Rating_levels</th>\n",
       "      <th>Runtime_Levels</th>\n",
       "    </tr>\n",
       "  </thead>\n",
       "  <tbody>\n",
       "    <tr>\n",
       "      <th>829</th>\n",
       "      <td>830</td>\n",
       "      <td>Disaster Movie</td>\n",
       "      <td>Comedy</td>\n",
       "      <td>Over the course of one evening, an unsuspectin...</td>\n",
       "      <td>Jason Friedberg</td>\n",
       "      <td>Carmen Electra, Vanessa Lachey,Nicole Parker, ...</td>\n",
       "      <td>2008</td>\n",
       "      <td>87</td>\n",
       "      <td>1.9</td>\n",
       "      <td>77207</td>\n",
       "      <td>14.170</td>\n",
       "      <td>15.0</td>\n",
       "      <td>1-2</td>\n",
       "      <td>Short</td>\n",
       "    </tr>\n",
       "    <tr>\n",
       "      <th>42</th>\n",
       "      <td>43</td>\n",
       "      <td>Don't Fuck in the Woods</td>\n",
       "      <td>Horror</td>\n",
       "      <td>A group of friends are going on a camping trip...</td>\n",
       "      <td>Shawn Burkett</td>\n",
       "      <td>Brittany Blanton, Ayse Howard, Roman Jossart,N...</td>\n",
       "      <td>2016</td>\n",
       "      <td>73</td>\n",
       "      <td>2.7</td>\n",
       "      <td>496</td>\n",
       "      <td>47.985</td>\n",
       "      <td>45.0</td>\n",
       "      <td>2-3</td>\n",
       "      <td>Short</td>\n",
       "    </tr>\n",
       "    <tr>\n",
       "      <th>871</th>\n",
       "      <td>872</td>\n",
       "      <td>Dragonball Evolution</td>\n",
       "      <td>Action,Adventure,Fantasy</td>\n",
       "      <td>The young warrior Son Goku sets out on a quest...</td>\n",
       "      <td>James Wong</td>\n",
       "      <td>Justin Chatwin, James Marsters, Yun-Fat Chow, ...</td>\n",
       "      <td>2009</td>\n",
       "      <td>85</td>\n",
       "      <td>2.7</td>\n",
       "      <td>59512</td>\n",
       "      <td>9.350</td>\n",
       "      <td>45.0</td>\n",
       "      <td>2-3</td>\n",
       "      <td>Short</td>\n",
       "    </tr>\n",
       "    <tr>\n",
       "      <th>647</th>\n",
       "      <td>648</td>\n",
       "      <td>Tall Men</td>\n",
       "      <td>Fantasy,Horror,Thriller</td>\n",
       "      <td>A challenged man is stalked by tall phantoms i...</td>\n",
       "      <td>Jonathan Holbrook</td>\n",
       "      <td>Dan Crisafulli, Kay Whitney, Richard Garcia, P...</td>\n",
       "      <td>2016</td>\n",
       "      <td>133</td>\n",
       "      <td>3.2</td>\n",
       "      <td>173</td>\n",
       "      <td>47.985</td>\n",
       "      <td>57.0</td>\n",
       "      <td>3-4</td>\n",
       "      <td>Very Long</td>\n",
       "    </tr>\n",
       "    <tr>\n",
       "      <th>968</th>\n",
       "      <td>969</td>\n",
       "      <td>Wrecker</td>\n",
       "      <td>Action,Horror,Thriller</td>\n",
       "      <td>Best friends Emily and Lesley go on a road tri...</td>\n",
       "      <td>Micheal Bafaro</td>\n",
       "      <td>Anna Hutchison, Andrea Whitburn, Jennifer Koen...</td>\n",
       "      <td>2015</td>\n",
       "      <td>83</td>\n",
       "      <td>3.5</td>\n",
       "      <td>1210</td>\n",
       "      <td>47.985</td>\n",
       "      <td>37.0</td>\n",
       "      <td>3-4</td>\n",
       "      <td>Short</td>\n",
       "    </tr>\n",
       "  </tbody>\n",
       "</table>\n",
       "</div>"
      ],
      "text/plain": [
       "     Rank                    Title                     Genre  \\\n",
       "829   830           Disaster Movie                    Comedy   \n",
       "42     43  Don't Fuck in the Woods                    Horror   \n",
       "871   872     Dragonball Evolution  Action,Adventure,Fantasy   \n",
       "647   648                 Tall Men   Fantasy,Horror,Thriller   \n",
       "968   969                  Wrecker    Action,Horror,Thriller   \n",
       "\n",
       "                                           Description           Director  \\\n",
       "829  Over the course of one evening, an unsuspectin...    Jason Friedberg   \n",
       "42   A group of friends are going on a camping trip...      Shawn Burkett   \n",
       "871  The young warrior Son Goku sets out on a quest...         James Wong   \n",
       "647  A challenged man is stalked by tall phantoms i...  Jonathan Holbrook   \n",
       "968  Best friends Emily and Lesley go on a road tri...     Micheal Bafaro   \n",
       "\n",
       "                                                Actors  Year  Runtime  Rating  \\\n",
       "829  Carmen Electra, Vanessa Lachey,Nicole Parker, ...  2008       87     1.9   \n",
       "42   Brittany Blanton, Ayse Howard, Roman Jossart,N...  2016       73     2.7   \n",
       "871  Justin Chatwin, James Marsters, Yun-Fat Chow, ...  2009       85     2.7   \n",
       "647  Dan Crisafulli, Kay Whitney, Richard Garcia, P...  2016      133     3.2   \n",
       "968  Anna Hutchison, Andrea Whitburn, Jennifer Koen...  2015       83     3.5   \n",
       "\n",
       "     Votes  Revenue  Metascore Rating_levels Runtime_Levels  \n",
       "829  77207   14.170       15.0           1-2          Short  \n",
       "42     496   47.985       45.0           2-3          Short  \n",
       "871  59512    9.350       45.0           2-3          Short  \n",
       "647    173   47.985       57.0           3-4      Very Long  \n",
       "968   1210   47.985       37.0           3-4          Short  "
      ]
     },
     "execution_count": 27,
     "metadata": {},
     "output_type": "execute_result"
    }
   ],
   "source": [
    "Runtime_bin_edges=[66,100,111,123,191]  # Quartiles as Ranges\n",
    "Runtime_bin_names=['Short','Medium','Long','Very Long']\n",
    "df['Runtime_Levels']=pd.cut(df.Runtime,Runtime_bin_edges,labels=Runtime_bin_names)\n"
   ]
  },
  {
   "attachments": {
    "image.png": {
     "image/png": "[encoded data removed]"
    }
   },
   "cell_type": "markdown",
   "metadata": {},
   "source": [
    "#### A new column Runtime_Levels is created with the following range corresponding to respective Labels.####\n",
    "![image.png](attachment:image.png)"
   ]
  },
  {
   "cell_type": "code",
   "execution_count": 29,
   "metadata": {},
   "outputs": [
    {
     "data": {
      "text/plain": [
       "Text(0.5, 1.05, 'Movies Count of each Runtime level')"
      ]
     },
     "execution_count": 29,
     "metadata": {},
     "output_type": "execute_result"
    },
    {
     "data": {
      "image/png": "[encoded data removed]",
      "text/plain": [
       "<Figure size 576x396 with 1 Axes>"
      ]
     },
     "metadata": {},
     "output_type": "display_data"
    }
   ],
   "source": [
    "# Plotting the Count of Movies in every Label:\n",
    "ax = df.Runtime_Levels.value_counts().plot.bar();\n",
    "ax.set_ylabel('Movies Count');\n",
    "ax.set_xlabel('Runtime Levels')\n",
    "ax.set_xticklabels(df.Runtime_Levels.value_counts().index, rotation = 45);\n",
    "ax.set_title('Movies Count of each Runtime level', y=1.05)"
   ]
  },
  {
   "cell_type": "markdown",
   "metadata": {},
   "source": [
    "#### From the above plot we can conclude that most of the movies are in range of 66-100 minutes and least number of movies exceed 123 minutes.####"
   ]
  },
  {
   "cell_type": "code",
   "execution_count": 31,
   "metadata": {},
   "outputs": [
    {
     "data": {
      "text/html": [
       "<div>\n",
       "<style scoped>\n",
       "    .dataframe tbody tr th:only-of-type {\n",
       "        vertical-align: middle;\n",
       "    }\n",
       "\n",
       "    .dataframe tbody tr th {\n",
       "        vertical-align: top;\n",
       "    }\n",
       "\n",
       "    .dataframe thead th {\n",
       "        text-align: right;\n",
       "    }\n",
       "</style>\n",
       "<table border=\"1\" class=\"dataframe\">\n",
       "  <thead>\n",
       "    <tr style=\"text-align: right;\">\n",
       "      <th></th>\n",
       "      <th>Revenue</th>\n",
       "      <th>Rating</th>\n",
       "      <th>Metascore</th>\n",
       "    </tr>\n",
       "    <tr>\n",
       "      <th>Runtime_Levels</th>\n",
       "      <th></th>\n",
       "      <th></th>\n",
       "      <th></th>\n",
       "    </tr>\n",
       "  </thead>\n",
       "  <tbody>\n",
       "    <tr>\n",
       "      <th>Short</th>\n",
       "      <td>57.173818</td>\n",
       "      <td>6.310909</td>\n",
       "      <td>56.316364</td>\n",
       "    </tr>\n",
       "    <tr>\n",
       "      <th>Medium</th>\n",
       "      <td>65.321980</td>\n",
       "      <td>6.588163</td>\n",
       "      <td>55.518367</td>\n",
       "    </tr>\n",
       "    <tr>\n",
       "      <th>Long</th>\n",
       "      <td>65.585665</td>\n",
       "      <td>6.853648</td>\n",
       "      <td>59.257511</td>\n",
       "    </tr>\n",
       "    <tr>\n",
       "      <th>Very Long</th>\n",
       "      <td>127.933354</td>\n",
       "      <td>7.190650</td>\n",
       "      <td>65.252033</td>\n",
       "    </tr>\n",
       "  </tbody>\n",
       "</table>\n",
       "</div>"
      ],
      "text/plain": [
       "                   Revenue    Rating  Metascore\n",
       "Runtime_Levels                                 \n",
       "Short            57.173818  6.310909  56.316364\n",
       "Medium           65.321980  6.588163  55.518367\n",
       "Long             65.585665  6.853648  59.257511\n",
       "Very Long       127.933354  7.190650  65.252033"
      ]
     },
     "execution_count": 31,
     "metadata": {},
     "output_type": "execute_result"
    }
   ],
   "source": [
    "#Finding the means of Revenue,Rating and Metascore for every Runtime Level:\n",
    "\n",
    "Runtime_Statistics=df.groupby('Runtime_Levels')['Revenue','Rating','Metascore'].mean()\n",
    "Runtime_Statistics"
   ]
  },
  {
   "cell_type": "code",
   "execution_count": 49,
   "metadata": {},
   "outputs": [
    {
     "data": {
      "text/plain": [
       "[Text(0, 0, 'Short'),\n",
       " Text(0, 0, 'Medium'),\n",
       " Text(0, 0, 'Long'),\n",
       " Text(0, 0, 'Very Long')]"
      ]
     },
     "execution_count": 49,
     "metadata": {},
     "output_type": "execute_result"
    },
    {
     "data": {
      "image/png": "[encoded data removed]",
      "text/plain": [
       "<Figure size 864x864 with 3 Axes>"
      ]
     },
     "metadata": {},
     "output_type": "display_data"
    }
   ],
   "source": [
    "# Plotting the above results:\n",
    "f1, f2, f3 = Runtime_Statistics.plot.bar(subplots=True);\n",
    "fig = f1.get_figure()\n",
    "fig.set_size_inches(12, 12)\n",
    "f1.set_title(\"\")\n",
    "f2.set_title(\"\")\n",
    "f3.set_title(\"\")\n",
    "f3.set_xticklabels(Runtime_Statistics.index, rotation = 45)\n",
    "             "
   ]
  },
  {
   "cell_type": "markdown",
   "metadata": {},
   "source": [
    "#### The above results cleary shows that movies exceeding 123 minutes provide higher Revenue with higher popularity (Rating) and higher critic score (Metascore) too.\n",
    "#### The trend also shows that as runtime increases, Revenue,Rating and Metascore also increases. ####"
   ]
  },
  {
   "cell_type": "markdown",
   "metadata": {},
   "source": [
    "## Genre##"
   ]
  },
  {
   "cell_type": "markdown",
   "metadata": {},
   "source": [
    "### How does Genre affect the movie overall?###"
   ]
  },
  {
   "cell_type": "code",
   "execution_count": 82,
   "metadata": {},
   "outputs": [
    {
     "data": {
      "text/plain": [
       "Title\n",
       "Disaster Movie             1\n",
       "Don't Fuck in the Woods    1\n",
       "Dragonball Evolution       3\n",
       "Tall Men                   3\n",
       "Wrecker                    3\n",
       "Name: Genre_Counts, dtype: int64"
      ]
     },
     "execution_count": 82,
     "metadata": {},
     "output_type": "execute_result"
    }
   ],
   "source": [
    "# Genre Variable has values separated by comma. Hence spiliting the values and count the number of Genres avaialble in a new Column:\n",
    "df['Genre_Counts']=df.Genre.str.split(',').str.len()\n",
    "# Fetching first 5 rows of the Column:\n",
    "df.Genre_Counts.head(5)\n"
   ]
  },
  {
   "cell_type": "code",
   "execution_count": 83,
   "metadata": {},
   "outputs": [
    {
     "data": {
      "text/html": [
       "<div>\n",
       "<style scoped>\n",
       "    .dataframe tbody tr th:only-of-type {\n",
       "        vertical-align: middle;\n",
       "    }\n",
       "\n",
       "    .dataframe tbody tr th {\n",
       "        vertical-align: top;\n",
       "    }\n",
       "\n",
       "    .dataframe thead th {\n",
       "        text-align: right;\n",
       "    }\n",
       "</style>\n",
       "<table border=\"1\" class=\"dataframe\">\n",
       "  <thead>\n",
       "    <tr style=\"text-align: right;\">\n",
       "      <th></th>\n",
       "      <th>Revenue</th>\n",
       "      <th>Rating</th>\n",
       "      <th>Metascore</th>\n",
       "    </tr>\n",
       "    <tr>\n",
       "      <th>Genre_Counts</th>\n",
       "      <th></th>\n",
       "      <th></th>\n",
       "      <th></th>\n",
       "    </tr>\n",
       "  </thead>\n",
       "  <tbody>\n",
       "    <tr>\n",
       "      <th>1</th>\n",
       "      <td>47.460524</td>\n",
       "      <td>6.359048</td>\n",
       "      <td>59.380952</td>\n",
       "    </tr>\n",
       "    <tr>\n",
       "      <th>2</th>\n",
       "      <td>54.829255</td>\n",
       "      <td>6.686809</td>\n",
       "      <td>58.472340</td>\n",
       "    </tr>\n",
       "    <tr>\n",
       "      <th>3</th>\n",
       "      <td>91.836076</td>\n",
       "      <td>6.794091</td>\n",
       "      <td>59.177273</td>\n",
       "    </tr>\n",
       "  </tbody>\n",
       "</table>\n",
       "</div>"
      ],
      "text/plain": [
       "                Revenue    Rating  Metascore\n",
       "Genre_Counts                                \n",
       "1             47.460524  6.359048  59.380952\n",
       "2             54.829255  6.686809  58.472340\n",
       "3             91.836076  6.794091  59.177273"
      ]
     },
     "execution_count": 83,
     "metadata": {},
     "output_type": "execute_result"
    }
   ],
   "source": [
    "#Fetching average figures for Revenue,Rating and Metascore for different Genre count:\n",
    "Genre_Count_Statistics=df.groupby('Genre_Counts')['Revenue','Rating','Metascore'].mean()\n",
    "Genre_Count_Statistics"
   ]
  },
  {
   "cell_type": "code",
   "execution_count": 90,
   "metadata": {},
   "outputs": [
    {
     "data": {
      "text/plain": [
       "[Text(0, 0, '1'), Text(0, 0, '2'), Text(0, 0, '3')]"
      ]
     },
     "execution_count": 90,
     "metadata": {},
     "output_type": "execute_result"
    },
    {
     "data": {
      "image/png": "[encoded data removed]",
      "text/plain": [
       "<Figure size 864x864 with 3 Axes>"
      ]
     },
     "metadata": {},
     "output_type": "display_data"
    }
   ],
   "source": [
    "#Plotting the above observations:\n",
    "\n",
    "p1, p2, p3 = Genre_Count_Statistics.plot.bar(subplots=True);\n",
    "fig = p1.get_figure()\n",
    "fig.set_size_inches(12, 12)\n",
    "p1.set_title(\"Revenue\")\n",
    "p2.set_title(\"Rating\")\n",
    "p3.set_title(\"Metascore\")\n",
    "p3.set_xticklabels(Genre_Count_Statistics.index, rotation=0)\n"
   ]
  },
  {
   "cell_type": "markdown",
   "metadata": {},
   "source": [
    "#### The above visualization clearly depicts that as the Genre count increases, the revenue collection shows a significant increase.\n",
    "#### Rating and Metascore fail to show a significant change as Audience as well critics rate the movie considering the overall characterstics and not only on the count of Genre available in it. "
   ]
  },
  {
   "cell_type": "markdown",
   "metadata": {},
   "source": [
    "#### Thus we can conclude that Genre count with 3 results into a higher Revenue but which combination of 3 Genres?####"
   ]
  },
  {
   "cell_type": "code",
   "execution_count": 95,
   "metadata": {},
   "outputs": [],
   "source": [
    "Genre_3= df[df.Genre_Counts==3]\n",
    "Genre_3= Genre_3.groupby('Genre')['Revenue','Metascore','Rating'].mean()"
   ]
  },
  {
   "cell_type": "code",
   "execution_count": 103,
   "metadata": {},
   "outputs": [
    {
     "data": {
      "text/plain": [
       "Text(0.5, 0, 'Revenue')"
      ]
     },
     "execution_count": 103,
     "metadata": {},
     "output_type": "execute_result"
    },
    {
     "data": {
      "image/png": "[encoded data removed]",
      "text/plain": [
       "<Figure size 576x396 with 1 Axes>"
      ]
     },
     "metadata": {},
     "output_type": "display_data"
    }
   ],
   "source": [
    "#Plotting Revenue\n",
    "pl1=Genre_3.Revenue.sort_values(ascending=False).head(5).plot.barh()\n",
    "pl1.set_xlabel(\"Revenue\")\n"
   ]
  },
  {
   "cell_type": "code",
   "execution_count": 104,
   "metadata": {},
   "outputs": [
    {
     "data": {
      "text/plain": [
       "Text(0.5, 0, 'Metascore')"
      ]
     },
     "execution_count": 104,
     "metadata": {},
     "output_type": "execute_result"
    },
    {
     "data": {
      "image/png": "[encoded data removed]",
      "text/plain": [
       "<Figure size 576x396 with 1 Axes>"
      ]
     },
     "metadata": {},
     "output_type": "display_data"
    }
   ],
   "source": [
    "# Plotting Metascore:\n",
    "pl1=Genre_3.Metascore.sort_values(ascending=False).head(5).plot.barh()\n",
    "pl1.set_xlabel(\"Metascore\")"
   ]
  },
  {
   "cell_type": "code",
   "execution_count": 105,
   "metadata": {},
   "outputs": [
    {
     "data": {
      "text/plain": [
       "Text(0.5, 0, 'Rating')"
      ]
     },
     "execution_count": 105,
     "metadata": {},
     "output_type": "execute_result"
    },
    {
     "data": {
      "image/png": "[encoded data removed]",
      "text/plain": [
       "<Figure size 576x396 with 1 Axes>"
      ]
     },
     "metadata": {},
     "output_type": "display_data"
    }
   ],
   "source": [
    "# Plotting Rating\n",
    "pl1=Genre_3.Rating.sort_values(ascending=False).head(5).plot.barh()\n",
    "pl1.set_xlabel(\"Rating\")"
   ]
  },
  {
   "cell_type": "markdown",
   "metadata": {},
   "source": [
    "#### As we can see Adventure,Drama, Fantasy combination gives highest Revenue.\n",
    "#### Drama, Fantasy,War combination is favorite for critics hence they have positive Reviews (Metascore)\n",
    "#### Animation.Drama,Fantasy  combination results in higher Rating."
   ]
  },
  {
   "cell_type": "markdown",
   "metadata": {},
   "source": [
    "###  Director ###"
   ]
  },
  {
   "cell_type": "markdown",
   "metadata": {},
   "source": [
    "### Does Director have any effect on the Movie?###"
   ]
  },
  {
   "cell_type": "code",
   "execution_count": 110,
   "metadata": {},
   "outputs": [
    {
     "data": {
      "text/plain": [
       "Ridley Scott                        8\n",
       "Michael Bay                         6\n",
       "Paul W.S. Anderson                  6\n",
       "M. Night Shyamalan                  6\n",
       "David Yates                         6\n",
       "Denis Villeneuve                    5\n",
       "Antoine Fuqua                       5\n",
       "David Fincher                       5\n",
       "Martin Scorsese                     5\n",
       "Peter Berg                          5\n",
       "Danny Boyle                         5\n",
       "Justin Lin                          5\n",
       "Christopher Nolan                   5\n",
       "J.J. Abrams                         5\n",
       "Woody Allen                         5\n",
       "Zack Snyder                         5\n",
       "D.J. Caruso                         4\n",
       "James Wan                           4\n",
       "Peter Jackson                       4\n",
       "Lars von Trier                      4\n",
       "Quentin Tarantino                   4\n",
       "Clint Eastwood                      4\n",
       "Jon Favreau                         4\n",
       "Mike Flanagan                       4\n",
       "Tim Burton                          4\n",
       "Francis Lawrence                    4\n",
       "Paul Feig                           4\n",
       "Ben Affleck                         4\n",
       "Joe Wright                          4\n",
       "Adam McKay                          4\n",
       "                                   ..\n",
       "Ryûhei Kitamura                     1\n",
       "Nick Cassavetes                     1\n",
       "Sang-ho Yeon                        1\n",
       "Noam Murro                          1\n",
       "Stephen Sommers                     1\n",
       "Josh Gordon                         1\n",
       "Jeremy Saulnier                     1\n",
       "James Wong                          1\n",
       "Bruce A. Evans                      1\n",
       "Robert Eggers                       1\n",
       "Michael J. Gallagher                1\n",
       "Joel Edgerton                       1\n",
       "Will Slocombe                       1\n",
       "Baltasar Kormákur                   1\n",
       "Wally Pfister                       1\n",
       "Alexi Pappas                        1\n",
       "Jeffrey G. Hunt                     1\n",
       "Nimród Antal                        1\n",
       "Rolfe Kanefsky                      1\n",
       "Thomas Vinterberg                   1\n",
       "Mark Herman                         1\n",
       "James Cameron                       1\n",
       "Patricia Riggen                     1\n",
       "Rupert Sanders                      1\n",
       "Niels Arden Oplev                   1\n",
       "David Leveaux                       1\n",
       "Whit Stillman                       1\n",
       "Florian Henckel von Donnersmarck    1\n",
       "Fred Wolf                           1\n",
       "Mateo Gil                           1\n",
       "Name: Director, Length: 644, dtype: int64"
      ]
     },
     "execution_count": 110,
     "metadata": {},
     "output_type": "execute_result"
    }
   ],
   "source": [
    "# Fetching the count of Movies directed by Directors:\n",
    "Director_Movie_Count=df.Director.value_counts()\n",
    "Director_Movie_Count"
   ]
  },
  {
   "cell_type": "code",
   "execution_count": 119,
   "metadata": {},
   "outputs": [
    {
     "data": {
      "text/plain": [
       "Ridley Scott          8\n",
       "M. Night Shyamalan    6\n",
       "David Yates           6\n",
       "Michael Bay           6\n",
       "Paul W.S. Anderson    6\n",
       "Woody Allen           5\n",
       "Antoine Fuqua         5\n",
       "Justin Lin            5\n",
       "Christopher Nolan     5\n",
       "Zack Snyder           5\n",
       "Denis Villeneuve      5\n",
       "Peter Berg            5\n",
       "David Fincher         5\n",
       "Martin Scorsese       5\n",
       "J.J. Abrams           5\n",
       "Danny Boyle           5\n",
       "Name: Director, dtype: int64"
      ]
     },
     "execution_count": 119,
     "metadata": {},
     "output_type": "execute_result"
    }
   ],
   "source": [
    "# We will consider the top directors who have directed more than 4 movies:\n",
    "Top_Directors=df['Director'].value_counts()[df['Director'].value_counts() >4]\n",
    "Top_Directors"
   ]
  },
  {
   "cell_type": "code",
   "execution_count": 123,
   "metadata": {},
   "outputs": [
    {
     "data": {
      "text/html": [
       "<div>\n",
       "<style scoped>\n",
       "    .dataframe tbody tr th:only-of-type {\n",
       "        vertical-align: middle;\n",
       "    }\n",
       "\n",
       "    .dataframe tbody tr th {\n",
       "        vertical-align: top;\n",
       "    }\n",
       "\n",
       "    .dataframe thead th {\n",
       "        text-align: right;\n",
       "    }\n",
       "</style>\n",
       "<table border=\"1\" class=\"dataframe\">\n",
       "  <thead>\n",
       "    <tr style=\"text-align: right;\">\n",
       "      <th></th>\n",
       "      <th>Revenue</th>\n",
       "      <th>Metascore</th>\n",
       "      <th>Rating</th>\n",
       "    </tr>\n",
       "    <tr>\n",
       "      <th>Director</th>\n",
       "      <th></th>\n",
       "      <th></th>\n",
       "      <th></th>\n",
       "    </tr>\n",
       "  </thead>\n",
       "  <tbody>\n",
       "    <tr>\n",
       "      <th>Antoine Fuqua</th>\n",
       "      <td>78.642000</td>\n",
       "      <td>52.400000</td>\n",
       "      <td>7.040000</td>\n",
       "    </tr>\n",
       "    <tr>\n",
       "      <th>Christopher Nolan</th>\n",
       "      <td>303.018000</td>\n",
       "      <td>74.800000</td>\n",
       "      <td>8.680000</td>\n",
       "    </tr>\n",
       "    <tr>\n",
       "      <th>Danny Boyle</th>\n",
       "      <td>36.680000</td>\n",
       "      <td>75.000000</td>\n",
       "      <td>7.420000</td>\n",
       "    </tr>\n",
       "    <tr>\n",
       "      <th>David Fincher</th>\n",
       "      <td>105.544000</td>\n",
       "      <td>78.600000</td>\n",
       "      <td>7.820000</td>\n",
       "    </tr>\n",
       "    <tr>\n",
       "      <th>David Yates</th>\n",
       "      <td>271.751667</td>\n",
       "      <td>68.500000</td>\n",
       "      <td>7.433333</td>\n",
       "    </tr>\n",
       "    <tr>\n",
       "      <th>Denis Villeneuve</th>\n",
       "      <td>43.242000</td>\n",
       "      <td>75.600000</td>\n",
       "      <td>7.760000</td>\n",
       "    </tr>\n",
       "    <tr>\n",
       "      <th>J.J. Abrams</th>\n",
       "      <td>336.690000</td>\n",
       "      <td>74.600000</td>\n",
       "      <td>7.580000</td>\n",
       "    </tr>\n",
       "    <tr>\n",
       "      <th>Justin Lin</th>\n",
       "      <td>164.958000</td>\n",
       "      <td>57.200000</td>\n",
       "      <td>6.820000</td>\n",
       "    </tr>\n",
       "    <tr>\n",
       "      <th>M. Night Shyamalan</th>\n",
       "      <td>69.745833</td>\n",
       "      <td>40.000000</td>\n",
       "      <td>5.533333</td>\n",
       "    </tr>\n",
       "    <tr>\n",
       "      <th>Martin Scorsese</th>\n",
       "      <td>91.622000</td>\n",
       "      <td>77.000000</td>\n",
       "      <td>7.920000</td>\n",
       "    </tr>\n",
       "    <tr>\n",
       "      <th>Michael Bay</th>\n",
       "      <td>236.886667</td>\n",
       "      <td>43.833333</td>\n",
       "      <td>6.483333</td>\n",
       "    </tr>\n",
       "    <tr>\n",
       "      <th>Paul W.S. Anderson</th>\n",
       "      <td>34.820000</td>\n",
       "      <td>40.333333</td>\n",
       "      <td>5.766667</td>\n",
       "    </tr>\n",
       "    <tr>\n",
       "      <th>Peter Berg</th>\n",
       "      <td>102.266000</td>\n",
       "      <td>57.400000</td>\n",
       "      <td>6.860000</td>\n",
       "    </tr>\n",
       "    <tr>\n",
       "      <th>Ridley Scott</th>\n",
       "      <td>89.882500</td>\n",
       "      <td>59.750000</td>\n",
       "      <td>6.850000</td>\n",
       "    </tr>\n",
       "    <tr>\n",
       "      <th>Woody Allen</th>\n",
       "      <td>28.238000</td>\n",
       "      <td>69.400000</td>\n",
       "      <td>7.020000</td>\n",
       "    </tr>\n",
       "    <tr>\n",
       "      <th>Zack Snyder</th>\n",
       "      <td>195.148000</td>\n",
       "      <td>48.000000</td>\n",
       "      <td>7.040000</td>\n",
       "    </tr>\n",
       "  </tbody>\n",
       "</table>\n",
       "</div>"
      ],
      "text/plain": [
       "                       Revenue  Metascore    Rating\n",
       "Director                                           \n",
       "Antoine Fuqua        78.642000  52.400000  7.040000\n",
       "Christopher Nolan   303.018000  74.800000  8.680000\n",
       "Danny Boyle          36.680000  75.000000  7.420000\n",
       "David Fincher       105.544000  78.600000  7.820000\n",
       "David Yates         271.751667  68.500000  7.433333\n",
       "Denis Villeneuve     43.242000  75.600000  7.760000\n",
       "J.J. Abrams         336.690000  74.600000  7.580000\n",
       "Justin Lin          164.958000  57.200000  6.820000\n",
       "M. Night Shyamalan   69.745833  40.000000  5.533333\n",
       "Martin Scorsese      91.622000  77.000000  7.920000\n",
       "Michael Bay         236.886667  43.833333  6.483333\n",
       "Paul W.S. Anderson   34.820000  40.333333  5.766667\n",
       "Peter Berg          102.266000  57.400000  6.860000\n",
       "Ridley Scott         89.882500  59.750000  6.850000\n",
       "Woody Allen          28.238000  69.400000  7.020000\n",
       "Zack Snyder         195.148000  48.000000  7.040000"
      ]
     },
     "execution_count": 123,
     "metadata": {},
     "output_type": "execute_result"
    }
   ],
   "source": [
    "# Converting this Series to a DataFrame:\n",
    "Top_Directors_Movies=df[df.Director.isin(Top_Directors.index.tolist())]\n",
    "Top_Directors_Movies\n",
    "Top_Directors_Statistics=Top_Directors_Movies.groupby('Director')['Revenue','Metascore','Rating'].mean()\n",
    "Top_Directors_Statistics"
   ]
  },
  {
   "cell_type": "code",
   "execution_count": 124,
   "metadata": {},
   "outputs": [
    {
     "data": {
      "text/plain": [
       "Text(0.5, 0, 'Revenue')"
      ]
     },
     "execution_count": 124,
     "metadata": {},
     "output_type": "execute_result"
    },
    {
     "data": {
      "image/png": "[encoded data removed]",
      "text/plain": [
       "<Figure size 576x396 with 1 Axes>"
      ]
     },
     "metadata": {},
     "output_type": "display_data"
    }
   ],
   "source": [
    "# The above list gives us details about the top Directors who earned highest Revenue, Rating and Metascore.\n",
    "# Plotting for Top Directors in Revnue\n",
    "plt1=Top_Directors_Statistics.Revenue.sort_values(ascending=False).head(5).plot.barh()\n",
    "plt1.set_xlabel(\"Revenue\")"
   ]
  },
  {
   "cell_type": "markdown",
   "metadata": {},
   "source": [
    "#### As per above plotting J.J Abrams is the Director whose movies receives the highest Revenue."
   ]
  },
  {
   "cell_type": "code",
   "execution_count": 125,
   "metadata": {},
   "outputs": [
    {
     "data": {
      "text/plain": [
       "Text(0.5, 0, 'Metascore')"
      ]
     },
     "execution_count": 125,
     "metadata": {},
     "output_type": "execute_result"
    },
    {
     "data": {
      "image/png": "[encoded data removed]",
      "text/plain": [
       "<Figure size 576x396 with 1 Axes>"
      ]
     },
     "metadata": {},
     "output_type": "display_data"
    }
   ],
   "source": [
    "# Plotting Metascore:\n",
    "plt1=Top_Directors_Statistics.Metascore.sort_values(ascending=False).head(5).plot.barh()\n",
    "plt1.set_xlabel(\"Metascore\")"
   ]
  },
  {
   "cell_type": "markdown",
   "metadata": {},
   "source": [
    "#### David Fincher's movie has highest positive reviews from critics.####"
   ]
  },
  {
   "cell_type": "code",
   "execution_count": 127,
   "metadata": {},
   "outputs": [
    {
     "data": {
      "text/plain": [
       "Text(0.5, 0, 'Rating')"
      ]
     },
     "execution_count": 127,
     "metadata": {},
     "output_type": "execute_result"
    },
    {
     "data": {
      "image/png": "[encoded data removed]",
      "text/plain": [
       "<Figure size 576x396 with 1 Axes>"
      ]
     },
     "metadata": {},
     "output_type": "display_data"
    }
   ],
   "source": [
    "# Plotting Rating:\n",
    "plt1=Top_Directors_Statistics.Rating.sort_values(ascending=False).head(5).plot.barh()\n",
    "plt1.set_xlabel(\"Rating\")"
   ]
  },
  {
   "cell_type": "markdown",
   "metadata": {},
   "source": [
    "#### Viewers have rated Christopher Nolan's Movies the highest. Hence his movies are most popular.####"
   ]
  },
  {
   "cell_type": "markdown",
   "metadata": {},
   "source": [
    "#### Conclusions:\n",
    "* The numbers of Mvoies released every year is increasing.\n",
    "* With the number of Movies released increasing , the Revenue earned is also at a higher end.\n",
    "* An Average rating around 7-8 generates higher Revenue.\n",
    "* Revenue and Critics Score are not dependant on each other.\n",
    "* Mvies having Runtime greater than 123 minutes results into higher Revenue, Popularity as well as Positive reviews from critics.\n",
    "* Movies having Genre count of 3 are more profitable. In which Drama and Fantasy are common in all. \n",
    "* J.J Abram, David Fincher and Christopher Nolan's Movies are are top in Revenue.Metascore and Rating Respectively."
   ]
  },
  {
   "cell_type": "markdown",
   "metadata": {},
   "source": [
    "### Business Insights:###\n",
    "#### Following features can be applied by Mr.X to Movies for gaining maximum profits and popularity:\n",
    "*  **Runtime**  of Movies should be more than 123 minutes.\n",
    "*  **Genre**  count should be 3 or more including Drama and Fantasy as an addition.\n",
    "* J.J Abram, David Fincher and Christopher Nolan should be preferred as **Directors** .\n",
    "* All the above features can be inculcated in Movies so that movies becomes a Hit.\n"
   ]
  }
 ],
 "metadata": {
  "kernelspec": {
   "display_name": "Python 3",
   "language": "python",
   "name": "python3"
  },
  "language_info": {
   "codemirror_mode": {
    "name": "ipython",
    "version": 3
   },
   "file_extension": ".py",
   "mimetype": "text/x-python",
   "name": "python",
   "nbconvert_exporter": "python",
   "pygments_lexer": "ipython3",
   "version": "3.7.3"
  }
 },
 "nbformat": 4,
 "nbformat_minor": 2
}
